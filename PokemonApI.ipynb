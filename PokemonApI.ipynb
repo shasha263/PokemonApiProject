{
 "cells": [
  {
   "cell_type": "code",
   "execution_count": 73,
   "metadata": {},
   "outputs": [],
   "source": [
    "import requests as r\n",
    "lst_= ['charmander','pikachu','arbok','muk','caterpie','ditto','bulbasaur','ekans','mankey','flareon',\n",
    "      'horsea','cubone','nidorino','alakazam','mew','starmie','seaking','persian','pidgeot','beedrill'] \n",
    "\n",
    "def pokemon(lst_):\n",
    "    pokemon_val=[]\n",
    "    for i in lst_:\n",
    "        pokemon=r.get(\"https://pokeapi.co/api/v2/pokemon/\"+i)\n",
    "        #print(pokemon)\n",
    "        my_data = pokemon.json()       \n",
    "        my_data1={}\n",
    "        my_data1['name']=my_data['name']\n",
    "        lst_a=[]\n",
    "        for ability in my_data['abilities']:\n",
    "            lst_a.append(ability['ability']['name'])\n",
    "            my_data1['abilities']=lst_a\n",
    "        my_data1['weight']=my_data['weight']\n",
    "        lst_b=[]\n",
    "        for types in my_data['types']:\n",
    "            lst_b.append(types['type']['name'])\n",
    "            my_data1['types']=lst_b\n",
    "        pokemon_val.append(my_data1)   \n",
    "    #print(pokemon_val)\n",
    "\n",
    "    new_dict={}\n",
    "    types=set()\n",
    "    for pokemon in pokemon_val:\n",
    "        for j in pokemon['types']:\n",
    "            #print(j)\n",
    "            types.add(j)\n",
    "            if j in types:\n",
    "                new_dict[j]=pokemon\n",
    "\n",
    "    #print(types)\n",
    "   \n",
    "  \n",
    "    #new_dict[j]={pokemon['name']:pokemon for pokemon in pokemon_val for j in pokemon['types'] if j in types}\n",
    "    print(new_dict)\n",
    "\n",
    "\n",
    "\n",
    "    "
   ]
  },
  {
   "cell_type": "code",
   "execution_count": 74,
   "metadata": {},
   "outputs": [
    {
     "name": "stdout",
     "output_type": "stream",
     "text": [
      "{'fire': {'name': 'flareon', 'abilities': ['flash-fire', 'guts'], 'weight': 250, 'types': ['fire']}, 'electric': {'name': 'pikachu', 'abilities': ['static', 'lightning-rod'], 'weight': 60, 'types': ['electric']}, 'poison': {'name': 'beedrill', 'abilities': ['swarm', 'sniper'], 'weight': 295, 'types': ['bug', 'poison']}, 'bug': {'name': 'beedrill', 'abilities': ['swarm', 'sniper'], 'weight': 295, 'types': ['bug', 'poison']}, 'normal': {'name': 'pidgeot', 'abilities': ['keen-eye', 'tangled-feet', 'big-pecks'], 'weight': 395, 'types': ['normal', 'flying']}, 'grass': {'name': 'bulbasaur', 'abilities': ['overgrow', 'chlorophyll'], 'weight': 69, 'types': ['grass', 'poison']}, 'fighting': {'name': 'mankey', 'abilities': ['vital-spirit', 'anger-point', 'defiant'], 'weight': 280, 'types': ['fighting']}, 'water': {'name': 'seaking', 'abilities': ['swift-swim', 'water-veil', 'lightning-rod'], 'weight': 390, 'types': ['water']}, 'ground': {'name': 'cubone', 'abilities': ['rock-head', 'lightning-rod', 'battle-armor'], 'weight': 65, 'types': ['ground']}, 'psychic': {'name': 'starmie', 'abilities': ['illuminate', 'natural-cure', 'analytic'], 'weight': 800, 'types': ['water', 'psychic']}, 'flying': {'name': 'pidgeot', 'abilities': ['keen-eye', 'tangled-feet', 'big-pecks'], 'weight': 395, 'types': ['normal', 'flying']}}\n"
     ]
    }
   ],
   "source": [
    "pokemon(lst_)"
   ]
  }
 ],
 "metadata": {
  "interpreter": {
   "hash": "b93b91927d7b2753ebe242aa7dfcdfef91881393d8b926ec2ce01874b09d686e"
  },
  "kernelspec": {
   "display_name": "Python 3.9.7 64-bit",
   "language": "python",
   "name": "python3"
  },
  "language_info": {
   "codemirror_mode": {
    "name": "ipython",
    "version": 3
   },
   "file_extension": ".py",
   "mimetype": "text/x-python",
   "name": "python",
   "nbconvert_exporter": "python",
   "pygments_lexer": "ipython3",
   "version": "3.9.7"
  },
  "orig_nbformat": 4
 },
 "nbformat": 4,
 "nbformat_minor": 2
}
